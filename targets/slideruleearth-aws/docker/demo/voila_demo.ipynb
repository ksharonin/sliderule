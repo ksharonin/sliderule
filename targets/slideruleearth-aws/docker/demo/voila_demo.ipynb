{
 "cells": [
  {
   "cell_type": "markdown",
   "metadata": {
    "extensions": {
     "jupyter_dashboards": {
      "version": 1,
      "views": {
       "default_view": {
        "col": 0,
        "height": 5,
        "row": 0,
        "width": 10
       }
      }
     }
    }
   },
   "source": [
    "# SlideRule Voila Demo\n",
    "\n",
    "#### SlideRule is an on-demand science data processing service that runs in the cloud and responds to REST API calls to process and return science results.\n",
    "\n",
    "This web page demonstrates a simple use of SlideRule to return elevations within a small region of interest using processing parameters specified at the time of the request.  The web page is implemented inside a Jupyter Notebook using SlideRule's Python client, and is statically served using Voila.  For more information on SlideRule, and how to install and use it for your own analysis applications, please see our website at [slideruleearth.io](https://slideruleearth.io).\n",
    "\n",
    "| Step 1 | Step 2 | Step 3 | Step 4 | Step 5 |\n",
    "|--------|--------|--------|--------|--------|\n",
    "| Select Region of Interest | Choose Processing Parameters and Run SlideRule | Explore Data Points and Refresh Plot | Plot Photon Cloud of Ground Track | Build Your Own Notebook |\n",
    "| Use the map to draw a polygon or bounding box around your region of interest. | Select the processing parameters to use to calculate geolocated elevations for the region of interest created above. Then click the \"Run SlideRule!\" button to initiate a https://github.com/ICESat2-SlideRule/sliderule-python/blob/main/examples/api_widgets_demo.ipynb request to SlideRule. Once all granules have been processed, the above map will be updated with a scatter plot of the different elevations. | The results are returned as a GeoDataFrame with multiple columns. Choose a field in the returned results to plot, and then click \"Refresh Plot\" to see the map updated with values from that column. | Enter the reference ground track, the cycle, and the individual ground track in the input boxes below. If you click on an individual elevation in the map, it will automatically populate these inputs with the correct values. | Check out our [API widgets demo](https://github.com/ICESat2-SlideRule/sliderule-python/blob/main/examples/api_widgets_demo.ipynb) for a guided walkthrough of how SlideRule works along with code you can use to start your own notebook. |"
   ]
  },
  {
   "cell_type": "markdown",
   "metadata": {
    "extensions": {
     "jupyter_dashboards": {
      "version": 1,
      "views": {
       "default_view": {
        "hidden": true
       }
      }
     }
    }
   },
   "source": [
    "## Gridded Elevations ([atl06p](https://slideruleearth.io/rtd/api_reference/icesat2.html#atl06p))"
   ]
  },
  {
   "cell_type": "code",
   "execution_count": null,
   "metadata": {
    "extensions": {
     "jupyter_dashboards": {
      "version": 1,
      "views": {
       "default_view": {
        "hidden": true
       }
      }
     }
    }
   },
   "outputs": [],
   "source": [
    "# load the necessary packages\n",
    "from sliderule import icesat2, ipysliderule, io, sliderule\n",
    "import ipywidgets as widgets\n",
    "import geopandas\n",
    "import logging\n",
    "import warnings\n",
    "import time\n",
    "import json\n",
    "from IPython import display\n",
    "# atl03 plotting imports\n",
    "import numpy as np\n",
    "import matplotlib.lines\n",
    "import matplotlib.pyplot as plt\n",
    "# autoreload\n",
    "%load_ext autoreload\n",
    "%autoreload 2\n",
    "%matplotlib inline"
   ]
  },
  {
   "cell_type": "code",
   "execution_count": null,
   "metadata": {
    "extensions": {
     "jupyter_dashboards": {
      "version": 1,
      "views": {
       "default_view": {
        "hidden": true
       }
      }
     }
    }
   },
   "outputs": [],
   "source": [
    "# turn off warnings for demo\n",
    "warnings.filterwarnings('ignore')"
   ]
  },
  {
   "cell_type": "code",
   "execution_count": null,
   "metadata": {
    "extensions": {
     "jupyter_dashboards": {
      "version": 1,
      "views": {
       "default_view": {
        "hidden": true
       }
      }
     }
    }
   },
   "outputs": [],
   "source": [
    "# create global variables\n",
    "url_textbox = None\n",
    "atl06_rsps = None\n",
    "atl06_parms = None\n",
    "results = []\n",
    "SRwidgets = ipysliderule.widgets()\n",
    "points_dropdown = None\n",
    "update_button = widgets.Button(description=\"Update Map\")\n",
    "run_button = widgets.Button(description=\"Run SlideRule!\")\n",
    "run_output = widgets.Output()\n",
    "refresh_button = widgets.Button(description=\"Refresh Plot\")\n",
    "refresh_output = widgets.Output()\n",
    "show_code06_button = widgets.Button(description=\"Show Code\")\n",
    "show_code06_output = widgets.Output()"
   ]
  },
  {
   "cell_type": "code",
   "execution_count": null,
   "metadata": {
    "extensions": {
     "jupyter_dashboards": {
      "version": 1,
      "views": {
       "default_view": {
        "col": 3,
        "height": 18,
        "row": 14,
        "width": 7
       }
      }
     }
    }
   },
   "outputs": [],
   "source": [
    "def create_map(projection):\n",
    "    # create ipyleaflet map in specified projection\n",
    "    global m\n",
    "    m = ipysliderule.leaflet(projection)\n",
    "    # install click handler callback\n",
    "    m.add_selected_callback(SRwidgets.atl06_click_handler)\n",
    "    display.display(m.map)\n",
    "\n",
    "# interactively change map when projection widget is changed\n",
    "out = widgets.interactive_output(create_map, dict(projection=SRwidgets.projection))\n",
    "display.display(out)\n",
    "display.display(run_output)"
   ]
  },
  {
   "cell_type": "code",
   "execution_count": null,
   "metadata": {
    "extensions": {
     "jupyter_dashboards": {
      "version": 1,
      "views": {
       "default_view": {
        "hidden": true
       }
      }
     }
    }
   },
   "outputs": [],
   "source": [
    "# update map\n",
    "def on_update_clicked(b):\n",
    "    m.add_layer(\n",
    "        layers=SRwidgets.layers.value,\n",
    "        rendering_rule=SRwidgets.rendering_rule\n",
    "    )\n",
    "\n",
    "# map widgets\n",
    "display.display(widgets.VBox([\n",
    "    SRwidgets.projection,\n",
    "    SRwidgets.layers,\n",
    "    SRwidgets.raster_functions\n",
    "]))\n",
    "\n",
    "# update button\n",
    "update_button.on_click(on_update_clicked)\n",
    "display.display(update_button)"
   ]
  },
  {
   "cell_type": "code",
   "execution_count": null,
   "metadata": {
    "extensions": {
     "jupyter_dashboards": {
      "version": 1,
      "views": {
       "default_view": {
        "hidden": true
       }
      }
     }
    }
   },
   "outputs": [],
   "source": [
    "%matplotlib inline\n",
    "\n",
    "# callbacks for events and exceptions\n",
    "def demo_logeventrec(rec):\n",
    "    # print(f'{rec[\"attr\"]}                                                        \\r', end=\"\")\n",
    "    pass\n",
    "\n",
    "def demo_exceptrec(rec):\n",
    "    if \"Successfully\" in rec[\"text\"]:\n",
    "        print(f'{rec[\"text\"]}                                                        \\r', end=\"\")\n",
    "\n",
    "# build and transmit requests to SlideRule\n",
    "def runSlideRule():\n",
    "    global url_textbox, atl06_parms, results\n",
    "    \n",
    "    # set the url for the sliderule service\n",
    "    icesat2.init(url_textbox.value, loglevel=logging.ERROR, max_resources=1000)\n",
    "\n",
    "    # sliderule asset and data release\n",
    "    asset = SRwidgets.asset.value\n",
    "\n",
    "    # build sliderule parameters using latest values from widget\n",
    "    atl06_parms = {\n",
    "        # surface type: 0-land, 1-ocean, 2-sea ice, 3-land ice, 4-inland water\n",
    "        \"srt\": SRwidgets.surface_type.index,\n",
    "        # length of ATL06-SR segment in meters\n",
    "        \"len\": SRwidgets.length.value,\n",
    "        # step distance for successive ATL06-SR segments in meters\n",
    "        \"res\": SRwidgets.step.value,\n",
    "        # confidence level for PE selection\n",
    "        \"cnf\": SRwidgets.confidence.value,\n",
    "        # ATL08 land surface classifications\n",
    "        \"atl08_class\": list(SRwidgets.land_class.value),\n",
    "        # maximum iterations, not including initial least-squares-fit selection\n",
    "        \"maxi\": SRwidgets.iteration.value,\n",
    "        # minimum along track spread\n",
    "        \"ats\": SRwidgets.spread.value,\n",
    "        # minimum PE count\n",
    "        \"cnt\": SRwidgets.count.value,\n",
    "        # minimum height of PE window in meters\n",
    "        \"H_min_win\": SRwidgets.window.value,\n",
    "        # maximum robust dispersion in meters\n",
    "        \"sigma_r_max\": SRwidgets.sigma.value\n",
    "    }\n",
    "\n",
    "    # clear existing geodataframe\n",
    "    results = []\n",
    "    gdf = sliderule.emptyframe()\n",
    "\n",
    "    # for each region of interest\n",
    "    for poly in m.regions:\n",
    "        # add polygon from map to sliderule parameters\n",
    "        atl06_parms[\"poly\"] = poly \n",
    "        # make the request to the SlideRule (ATL06-SR) endpoint\n",
    "        # and pass it the request parameters to request ATL06 Data\n",
    "        gdf = gdf.append(icesat2.atl06p(atl06_parms, asset, callbacks={'eventrec': demo_logeventrec, 'exceptrec': demo_exceptrec}))\n",
    "    \n",
    "    return gdf\n",
    "\n",
    "# run sliderule action\n",
    "def on_run_clicked(b):\n",
    "    global atl06_rsps, points_dropdown\n",
    "    with run_output:\n",
    "        print(f'SlideRule processing request... initiated\\r', end=\"\")\n",
    "        perf_start = time.perf_counter()\n",
    "        atl06_rsps = runSlideRule()\n",
    "        perf_duration = time.perf_counter() - perf_start\n",
    "        print(f'SlideRule processing request... completed in {perf_duration:.3f} seconds; returned {atl06_rsps.shape[0]} elevations                                   ')\n",
    "        if atl06_rsps.shape[0] > 0:\n",
    "            max_plot_points = 10000\n",
    "            if points_dropdown.value == \"100K\":\n",
    "                max_plot_points = 100000\n",
    "            elif points_dropdown.value == \"all\":\n",
    "                max_plot_points = 1000000000\n",
    "            if max_plot_points > atl06_rsps.shape[0]:\n",
    "                max_plot_points = atl06_rsps.shape[0]\n",
    "            print(f'Plotting {max_plot_points} of {atl06_rsps.shape[0]} elevations. This may take 10-60+ seconds for larger point datasets.')\n",
    "            m.GeoData(atl06_rsps, column_name=SRwidgets.variable.value, cmap=SRwidgets.colormap, max_plot_points=max_plot_points)\n",
    "\n",
    "# refresh action\n",
    "def on_refresh_clicked(b):\n",
    "    global atl06_rsps\n",
    "    with refresh_output:\n",
    "        if atl06_rsps is not None and atl06_rsps.shape[0] > 0:\n",
    "            max_plot_points = 10000\n",
    "            if points_dropdown.value == \"100K\":\n",
    "                max_plot_points = 100000\n",
    "            elif points_dropdown.value == \"all\":\n",
    "                max_plot_points = 1000000000\n",
    "            if max_plot_points > atl06_rsps.shape[0]:\n",
    "                max_plot_points = atl06_rsps.shape[0]\n",
    "            print(f'Plotting {max_plot_points} of {atl06_rsps.shape[0]} elevations. This may take 10-60+ seconds for larger point datasets.')\n",
    "            m.GeoData(atl06_rsps, column_name=SRwidgets.variable.value, cmap=SRwidgets.colormap, max_plot_points=max_plot_points)\n",
    "\n",
    "# show code action\n",
    "def on_show_code06_clicked(b):\n",
    "    global url_textbox, atl06_parms\n",
    "    with show_code06_output:\n",
    "        display.clear_output()\n",
    "        print(f'icesat2.init(\"{url_textbox.value}\")')\n",
    "        print('parms = ', json.dumps(atl06_parms, indent=4), sep='')\n",
    "        print('gdf = icesat2.atl06p(parms, asset=\"nsidc-s3\")')\n",
    "        \n",
    "# link buttons\n",
    "run_button.on_click(on_run_clicked)\n",
    "refresh_button.on_click(on_refresh_clicked)\n",
    "show_code06_button.on_click(on_show_code06_clicked)"
   ]
  },
  {
   "cell_type": "code",
   "execution_count": null,
   "metadata": {
    "extensions": {
     "jupyter_dashboards": {
      "version": 1,
      "views": {
       "default_view": {
        "col": 0,
        "height": 18,
        "row": 14,
        "width": 3
       }
      }
     }
    }
   },
   "outputs": [],
   "source": [
    "# url input text box\n",
    "url_textbox = widgets.Text(\n",
    "    value='slideruleearth.io',\n",
    "    placeholder='Input box for SlideRule url',\n",
    "    description='URL:',\n",
    "    disabled=False\n",
    ")\n",
    "display.display(url_textbox)\n",
    "\n",
    "# points to plot drop down\n",
    "points_dropdown = widgets.Dropdown(\n",
    "    options = [\"10K\", \"100K\", \"all\"],\n",
    "    value = \"10K\",\n",
    "    description = \"Pts to Draw\",\n",
    "    disabled = False,\n",
    ")\n",
    "\n",
    "# display widgets for setting SlideRule parameters\n",
    "display.display(widgets.VBox([\n",
    "    SRwidgets.surface_type,\n",
    "    SRwidgets.length,\n",
    "    SRwidgets.step,\n",
    "    SRwidgets.confidence,\n",
    "    SRwidgets.land_class,\n",
    "    SRwidgets.iteration,\n",
    "    SRwidgets.spread,\n",
    "    SRwidgets.count,\n",
    "    SRwidgets.window,\n",
    "    SRwidgets.sigma,\n",
    "    SRwidgets.variable,\n",
    "    SRwidgets.cmap,\n",
    "    points_dropdown,\n",
    "    SRwidgets.reverse,\n",
    "]))\n",
    "\n",
    "# display buttons\n",
    "display.display(run_button)\n",
    "display.display(refresh_button, refresh_output)\n",
    "display.display(show_code06_button, show_code06_output)"
   ]
  },
  {
   "cell_type": "code",
   "execution_count": null,
   "metadata": {
    "extensions": {
     "jupyter_dashboards": {
      "version": 1,
      "views": {
       "default_view": {
        "hidden": true
       }
      }
     }
    }
   },
   "outputs": [],
   "source": [
    "# globals for atl03 processing\n",
    "atl03_rsps = None\n",
    "atl03_parms = None\n",
    "show_code03_button = widgets.Button(description=\"Show Code\")\n",
    "show_code03_output = widgets.Output()\n",
    "elev_dropdown = None\n",
    "pc_button = widgets.Button(description=\"Plot Photon Cloud\")\n",
    "pc_output = widgets.Output()\n",
    "\n",
    "# track lookup tables\n",
    "gt2str = {icesat2.GT1L: 'gt1l', icesat2.GT1R: 'gt1r', icesat2.GT2L: 'gt2l', icesat2.GT2R: 'gt2r', icesat2.GT3L: 'gt3l', icesat2.GT3R: 'gt3r'}\n",
    "str2gt = {'gt1l': icesat2.GT1L, 'gt1r': icesat2.GT1R, 'gt2l': icesat2.GT2L, 'gt2r': icesat2.GT2R, 'gt3l': icesat2.GT3L, 'gt3r': icesat2.GT3R}\n",
    "gtlookup = {icesat2.GT1L: 1, icesat2.GT1R: 1, icesat2.GT2L: 2, icesat2.GT2R: 2, icesat2.GT3L: 3, icesat2.GT3R: 3}\n",
    "pairlookup = {icesat2.GT1L: 0, icesat2.GT1R: 1, icesat2.GT2L: 0, icesat2.GT2R: 1, icesat2.GT3L: 0, icesat2.GT3R: 1}"
   ]
  },
  {
   "cell_type": "markdown",
   "metadata": {
    "extensions": {
     "jupyter_dashboards": {
      "version": 1,
      "views": {
       "default_view": {
        "hidden": true
       }
      }
     }
    }
   },
   "source": [
    "## Photon Cloud ([atl03sp](https://slideruleearth.io/rtd/api_reference/icesat2.html#atl03spElevations))"
   ]
  },
  {
   "cell_type": "code",
   "execution_count": null,
   "metadata": {
    "extensions": {
     "jupyter_dashboards": {
      "version": 1,
      "views": {
       "default_view": {
        "col": 3,
        "height": 15,
        "row": 32,
        "width": 7
       }
      }
     }
    }
   },
   "outputs": [],
   "source": [
    "%matplotlib widget\n",
    "# ATL03 Subsetter\n",
    "def runATL03Subsetter():\n",
    "    global url_textbox, atl03_parms\n",
    "    \n",
    "    # set the url for the sliderule service\n",
    "    if url_textbox.value == 'local':\n",
    "        url = 'host.docker.internal'\n",
    "    else:\n",
    "        url = url_textbox.value\n",
    "    icesat2.init(url, loglevel=logging.ERROR)\n",
    "\n",
    "    # sliderule asset and data release\n",
    "    asset = SRwidgets.asset.value\n",
    "\n",
    "    # build sliderule parameters using latest values from widget\n",
    "    atl03_parms = {\n",
    "        # processing parameters\n",
    "        \"srt\": SRwidgets.surface_type.index,\n",
    "        \"len\": SRwidgets.length.value,\n",
    "        \"res\": SRwidgets.step.value,\n",
    "\n",
    "        # classification and checks\n",
    "        \"pass_invalid\": True, # still return photon segments that fail checks\n",
    "        \"cnf\": -2, # all photons\n",
    "        \"atl08_class\": [\"atl08_noise\", \"atl08_ground\", \"atl08_canopy\", \"atl08_top_of_canopy\", \"atl08_unclassified\"],\n",
    "        \"yapc\": {\"score\": 0}, # all photons\n",
    "        \"ats\": SRwidgets.spread.value,\n",
    "        \"cnt\": SRwidgets.count.value,\n",
    "        \n",
    "        # region of interest\n",
    "        \"poly\": m.regions[0],\n",
    "        \n",
    "        # track selection\n",
    "        \"rgt\": int(SRwidgets.rgt.value),\n",
    "        \"cycle\": int(SRwidgets.cycle.value),\n",
    "        \"track\": gtlookup[str2gt[SRwidgets.ground_track.value]]\n",
    "    }\n",
    "\n",
    "    # make call to sliderule\n",
    "    rsps = icesat2.atl03sp(atl03_parms, asset)\n",
    "    \n",
    "    # return geodataframe\n",
    "    return rsps\n",
    "\n",
    "# photon_cloud action\n",
    "def on_pc_clicked(b):\n",
    "    global atl03_rsps, atl06_rsps, elev_dropdown\n",
    "    with pc_output:\n",
    "        pc_output.clear_output(True)\n",
    "        \n",
    "        # Run ATL03 Subsetter\n",
    "        print(f'SlideRule processing request... initiated\\r', end=\"\")\n",
    "        perf_start = time.perf_counter()\n",
    "        atl03_rsps = runATL03Subsetter()\n",
    "        perf_duration = time.perf_counter() - perf_start\n",
    "        print(f'SlideRule processing request... completed in {perf_duration:.3f} seconds; returned {atl03_rsps.shape[0]} records                                   ')\n",
    "\n",
    "        # Create Plots\n",
    "        if atl03_rsps.shape[0] > 0 and atl06_rsps.shape[0] > 0:\n",
    "            fig,ax = plt.subplots(num=None, figsize=(10, 8))\n",
    "            fig.set_facecolor('white')\n",
    "            fig.canvas.header_visible = False\n",
    "            ax.set_title(\"Photon Cloud\")\n",
    "            ax.set_xlabel('UTC')\n",
    "            ax.set_ylabel('height (m)')\n",
    "            SRwidgets.plot(atl06_rsps, ax=ax, kind='scatter',\n",
    "                atl03=atl03_rsps, cmap=SRwidgets.colormap,\n",
    "                classification=SRwidgets.plot_classification.value,\n",
    "                segments=(elev_dropdown.value == 'enabled'),\n",
    "                legend=True, legend_frameon=True)\n",
    "            # draw and show plot\n",
    "            plt.show()\n",
    "            plt.draw()\n",
    "        \n",
    "# create button to display geodataframe        \n",
    "pc_button.on_click(on_pc_clicked)\n",
    "\n",
    "# click handler for individual photons\n",
    "def click_handler(feature):\n",
    "    if \"properties\" in feature:\n",
    "        if \"rgt\" in feature[\"properties\"] and \"cycle\" in feature[\"properties\"] and \"gt\" in feature[\"properties\"]:\n",
    "            SRwidgets.rgt.value = str(feature[\"properties\"][\"rgt\"])\n",
    "            SRwidgets.cycle.value = str(feature[\"properties\"][\"cycle\"])\n",
    "            SRwidgets.ground_track.value = gt2str[feature[\"properties\"][\"gt\"]]\n",
    "\n",
    "# install click handler callback\n",
    "m.add_selected_callback(click_handler)\n",
    "\n",
    "# show code action\n",
    "def on_show_code03_clicked(b):\n",
    "    global url_textbox, atl03_parms\n",
    "    with show_code03_output:\n",
    "        display.clear_output()\n",
    "        print(f'icesat2.init(\"{url_textbox.value}\")')\n",
    "        print('parms = ', json.dumps(atl03_parms, indent=4), sep='')\n",
    "        print('gdf = icesat2.atl03sp(parms, asset=\"nsidc-s3\")')\n",
    "        \n",
    "# install click handler callback\n",
    "show_code03_button.on_click(on_show_code03_clicked)"
   ]
  },
  {
   "cell_type": "code",
   "execution_count": null,
   "metadata": {
    "extensions": {
     "jupyter_dashboards": {
      "version": 1,
      "views": {
       "default_view": {
        "col": 0,
        "height": 15,
        "row": 32,
        "width": 3
       }
      }
     }
    }
   },
   "outputs": [],
   "source": [
    "# elevation plot drop down\n",
    "elev_dropdown = widgets.Dropdown(\n",
    "    options = [\"enabled\", \"disabled\"],\n",
    "    value = \"enabled\",\n",
    "    description = \"ATL06-SR\",\n",
    "    disabled = False,\n",
    ")\n",
    "\n",
    "display.display(SRwidgets.rgt)\n",
    "display.display(SRwidgets.cycle)\n",
    "display.display(SRwidgets.ground_track)\n",
    "display.display(SRwidgets.plot_classification)\n",
    "display.display(elev_dropdown)\n",
    "display.display(pc_button)\n",
    "display.display(pc_output)\n",
    "display.display(show_code03_button, show_code03_output)"
   ]
  }
 ],
 "metadata": {
  "extensions": {
   "jupyter_dashboards": {
    "activeView": "default_view",
    "version": 1,
    "views": {
     "default_view": {
      "cellMargin": 10,
      "defaultCellHeight": 40,
      "maxColumns": 12,
      "name": "active_view",
      "type": "grid"
     }
    }
   }
  },
  "interpreter": {
   "hash": "31f2aee4e71d21fbe5cf8b01ff0e069b9275f58929596ceb00d14d90e3e16cd6"
  },
  "kernelspec": {
   "display_name": "Python 3 (ipykernel)",
   "language": "python",
   "name": "python3"
  },
  "language_info": {
   "codemirror_mode": {
    "name": "ipython",
    "version": 3
   },
   "file_extension": ".py",
   "mimetype": "text/x-python",
   "name": "python",
   "nbconvert_exporter": "python",
   "pygments_lexer": "ipython3",
   "version": "3.10.6"
  },
  "toc-showtags": false
 },
 "nbformat": 4,
 "nbformat_minor": 4
}
