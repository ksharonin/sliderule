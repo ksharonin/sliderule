{
 "cells": [
  {
   "cell_type": "code",
   "execution_count": null,
   "metadata": {},
   "outputs": [],
   "source": [
    "import pandas as pd\n",
    "import numpy as np\n",
    "import matplotlib.pyplot as plt\n",
    "from ipywidgets import interact\n",
    "from bokeh.io import push_notebook, show, output_notebook\n",
    "from bokeh.plotting import figure\n",
    "from bokeh.models import ColumnDataSource\n",
    "output_notebook()"
   ]
  },
  {
   "cell_type": "code",
   "execution_count": null,
   "metadata": {},
   "outputs": [],
   "source": [
    "# Default Matplotlib Plot of Dataframe Column \n",
    "def dfplot(df, col, cond_col=\"\", cond_val=0):\n",
    "    if cond_col != \"\":\n",
    "        c = df[df[cond_col] == cond_val]\n",
    "        s = c[pd.isnull(c[col]) == False][col]\n",
    "    else:\n",
    "        s = df[pd.isnull(df[col]) == False][col]\n",
    "    s.plot(figsize=(15,5))\n",
    "    plt.title(col)\n",
    "    plt.show()\n",
    "\n",
    "# Sum of Dataframe Column\n",
    "def dfsum(df, col, cond_col=\"\", cond_val=0):\n",
    "    if cond_col != \"\":\n",
    "        total = df[df[cond_col] == cond_val][col].sum()\n",
    "    else:\n",
    "        total = df[col].sum()\n",
    "    return total\n",
    "\n",
    "# Matplotlib Histogram of Value Counts in Dataframe Column\n",
    "def dfplotvc(df, col, cond_col=\"\", cond_val=0):\n",
    "    if cond_col != \"\":\n",
    "        vc = df[df[cond_col] == cond_val][col].value_counts()\n",
    "    else:\n",
    "        vc = df[col].value_counts()\n",
    "    plt.clf()\n",
    "    plt.figure(figsize=(15,8))\n",
    "    vc.plot(kind='bar')\n",
    "    plt.show()  \n",
    "\n",
    "# Interactive Bokeh Plot of Dataframe Column\n",
    "# ... note that x axis is a recreated list of item number\n",
    "# ... and does not reflect original index in dataframe\n",
    "def dfbokeh(df, col, cond_col=\"\", cond_val=0):\n",
    "    p = figure(title=col, plot_height=300, plot_width=600)\n",
    "    if cond_col != \"\":\n",
    "        c = df[df[cond_col] == cond_val]\n",
    "        s = c[pd.isnull(c[col]) == False][col]\n",
    "    else:\n",
    "        s = df[pd.isnull(df[col]) == False][col]\n",
    "    y = s.values\n",
    "    x = [i for i in range(len(y))]\n",
    "    r = p.line(x, y, color=\"#2222aa\", line_width=3)\n",
    "    show(p, notebook_handle=True)\n",
    "\n",
    "# Creates a QtDialog for Opening a File (local only)\n",
    "def openfile_dialog():\n",
    "    from PyQt5 import QtGui\n",
    "    from PyQt5 import QtGui, QtWidgets\n",
    "    app = QtWidgets.QApplication([dir])\n",
    "    fname = QtWidgets.QFileDialog.getOpenFileName(None, \"Select a file...\", '.', filter=\"All files (*)\")\n",
    "    return fname"
   ]
  },
  {
   "cell_type": "code",
   "execution_count": null,
   "metadata": {},
   "outputs": [],
   "source": [
    "# Run `bin/sigview datasrv.lua <json file>` prior to executing any cell after this"
   ]
  },
  {
   "cell_type": "code",
   "execution_count": null,
   "metadata": {},
   "outputs": [],
   "source": [
    "# For environments that support Qt Dialog run the following\n",
    "#   execute the lines below to select a file that is read into the dataframe\n",
    "\n",
    "# csvfile = openfile_dialog()\n",
    "# df = pd.read_csv(csvfile[0])"
   ]
  },
  {
   "cell_type": "code",
   "execution_count": null,
   "metadata": {},
   "outputs": [],
   "source": [
    "# For environments that support local file access\n",
    "#   copy the desired data file into the same directory as this ipynb notebook as \"datainput.csv\"\n",
    "#   then execute the line below to read the file into the dataframe\n",
    "\n",
    "df = pd.read_csv(\"scihist.csv\")"
   ]
  },
  {
   "cell_type": "code",
   "execution_count": null,
   "metadata": {
    "scrolled": true
   },
   "outputs": [],
   "source": [
    "df.head()"
   ]
  },
  {
   "cell_type": "code",
   "execution_count": null,
   "metadata": {},
   "outputs": [],
   "source": [
    "df.tail()"
   ]
  },
  {
   "cell_type": "code",
   "execution_count": null,
   "metadata": {},
   "outputs": [],
   "source": [
    "df.describe()"
   ]
  },
  {
   "cell_type": "code",
   "execution_count": null,
   "metadata": {},
   "outputs": [],
   "source": [
    "# Everything below this cell is for example use only #"
   ]
  },
  {
   "cell_type": "code",
   "execution_count": null,
   "metadata": {},
   "outputs": [],
   "source": [
    "# Useful to list longer slices of a dataframe\n",
    "pd.set_option('display.height', 500)\n",
    "pd.set_option('display.max_rows', 500)"
   ]
  },
  {
   "cell_type": "code",
   "execution_count": null,
   "metadata": {},
   "outputs": [],
   "source": [
    "# Display a slice of dataframe\n",
    "df[1:5]"
   ]
  },
  {
   "cell_type": "code",
   "execution_count": null,
   "metadata": {},
   "outputs": [],
   "source": [
    "# Display all rows in dataframe that have certain values in them\n",
    "# ... in this case, all rows where the type is 4.0\n",
    "df[df[\"SciHist[1].TYPE\"].isin([4.0])]"
   ]
  },
  {
   "cell_type": "code",
   "execution_count": null,
   "metadata": {},
   "outputs": [],
   "source": [
    "# Display the sum of signal strength across the entire dataframe and when condition is met\n",
    "print(dfsum(df, \"A_DFC2.HK.TxPulsesInMajorFrame\"))\n",
    "print(dfsum(df, \"SciHist[1].SIGPES\", \"SciHist[1].TYPE\", 5.0))"
   ]
  },
  {
   "cell_type": "code",
   "execution_count": null,
   "metadata": {},
   "outputs": [],
   "source": [
    "# Create a value count plot to see what kinds of values are present in the dataframe for a column\n",
    "dfplotvc(df, \"A_DFC2.HK.TxPulsesInMajorFrame\")"
   ]
  },
  {
   "cell_type": "code",
   "execution_count": null,
   "metadata": {},
   "outputs": [],
   "source": [
    "# Plot a column\n",
    "dfplot(df, 'SciHist[1].SIGPES', 'SciHist[1].TYPE', 4)"
   ]
  },
  {
   "cell_type": "code",
   "execution_count": null,
   "metadata": {},
   "outputs": [],
   "source": [
    "# Create an interactive plot of a column\n",
    "dfbokeh(df, 'SciHist[1].SIGPES', 'SciHist[1].TYPE', 5)"
   ]
  },
  {
   "cell_type": "code",
   "execution_count": null,
   "metadata": {},
   "outputs": [],
   "source": [
    "df.keys()"
   ]
  },
  {
   "cell_type": "code",
   "execution_count": null,
   "metadata": {},
   "outputs": [],
   "source": [
    "# Plot\n",
    "dfbokeh(df, 'RWS')"
   ]
  },
  {
   "cell_type": "code",
   "execution_count": null,
   "metadata": {},
   "outputs": [],
   "source": [
    "# Plot\n",
    "dfbokeh(df, 'TXCNT')"
   ]
  },
  {
   "cell_type": "code",
   "execution_count": null,
   "metadata": {},
   "outputs": [],
   "source": [
    "# Plot a PCE1\n",
    "dfbokeh(df, 'SIGRNG')"
   ]
  },
  {
   "cell_type": "code",
   "execution_count": null,
   "metadata": {},
   "outputs": [],
   "source": [
    "# Plot a PCE1\n",
    "dfbokeh(df, 'A_DFC1.HK.Tracking_FIFOEmpty')"
   ]
  },
  {
   "cell_type": "code",
   "execution_count": null,
   "metadata": {},
   "outputs": [],
   "source": [
    "# Plot a PCE2\n",
    "dfplot(df, 'A_DFC2.HK.TxPulsesInMajorFrame')"
   ]
  }
 ],
 "metadata": {
  "kernelspec": {
   "display_name": "Python 3",
   "language": "python",
   "name": "python3"
  },
  "language_info": {
   "codemirror_mode": {
    "name": "ipython",
    "version": 3
   },
   "file_extension": ".py",
   "mimetype": "text/x-python",
   "name": "python",
   "nbconvert_exporter": "python",
   "pygments_lexer": "ipython3",
   "version": "3.7.6"
  }
 },
 "nbformat": 4,
 "nbformat_minor": 2
}
