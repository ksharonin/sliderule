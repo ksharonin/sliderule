{
 "cells": [
  {
   "cell_type": "code",
   "execution_count": null,
   "metadata": {},
   "outputs": [],
   "source": [
    "import sys\n",
    "\n",
    "import pandas as pd\n",
    "import numpy as np\n",
    "import math\n",
    "\n",
    "import sliderule"
   ]
  },
  {
   "cell_type": "code",
   "execution_count": null,
   "metadata": {},
   "outputs": [],
   "source": [
    "# Set Parameters #\n",
    "url = \"http://44.227.4.67:9081\"\n",
    "asset = \"atl03-cloud\"\n",
    "\n",
    "# Set URL #\n",
    "sliderule.set_url(url)\n",
    "\n",
    "# Set Verbosity #\n",
    "sliderule.set_verbose(True)"
   ]
  },
  {
   "cell_type": "code",
   "execution_count": null,
   "metadata": {},
   "outputs": [],
   "source": [
    "#\n",
    "# Distance between two coordinates\n",
    "#\n",
    "def geodist(lat1, lon1, lat2, lon2):\n",
    "\n",
    "    lat1 = math.radians(lat1)\n",
    "    lon1 = math.radians(lon1)\n",
    "    lat2 = math.radians(lat2)\n",
    "    lon2 = math.radians(lon2)\n",
    "\n",
    "    dlon = lon2 - lon1\n",
    "    dlat = lat2 - lat1\n",
    "\n",
    "    dist = math.sin(dlat / 2)**2 + math.cos(lat1) * math.cos(lat2) * math.sin(dlon / 2)**2\n",
    "    dist = 2.0 * math.atan2(math.sqrt(dist), math.sqrt(1.0 - dist))\n",
    "    dist = 6373.0 * dist\n",
    "\n",
    "    return dist"
   ]
  },
  {
   "cell_type": "code",
   "execution_count": null,
   "metadata": {},
   "outputs": [],
   "source": [
    "#\n",
    "# Parse Responses from Dataset\n",
    "#\n",
    "def recoverdata(rsps):\n",
    "    datatype = rsps[0][\"datatype\"]\n",
    "    data = ()\n",
    "    size = 0\n",
    "    for d in rsps:\n",
    "        data = data + d[\"data\"]\n",
    "        size = size + d[\"size\"]\n",
    "    return sliderule.get_values(data, datatype, size)"
   ]
  },
  {
   "cell_type": "code",
   "execution_count": null,
   "metadata": {},
   "outputs": [],
   "source": [
    "#\n",
    "# ATL06 (read-ICESat-2) Read Request\n",
    "#\n",
    "def expread(asset):\n",
    "\n",
    "    # Baseline Request\n",
    "    rqst = {\n",
    "        \"asset\" : asset,\n",
    "        \"resource\": \"ATL06_20181019065445_03150111_003_01.h5\",\n",
    "        \"datatype\": sliderule.datatypes[\"REAL\"],\n",
    "        \"id\": 0\n",
    "    }\n",
    "\n",
    "    # Read ATL06 (read-ICESat-2) Segments\n",
    "    rqst[\"dataset\"] = \"/gt1r/land_ice_segments/segment_id\"\n",
    "    rsps = sliderule.engine(\"h5\", rqst)\n",
    "    segments = recoverdata(rsps)\n",
    "\n",
    "    # Read ATL06 (read-ICESat-2) Heights\n",
    "    rqst[\"dataset\"] = \"/gt1r/land_ice_segments/h_li\"\n",
    "    rsps = sliderule.engine(\"h5\", rqst)\n",
    "    heights = recoverdata(rsps)\n",
    "\n",
    "    # Read ATL06 (read-ICESat-2) Latitudes\n",
    "    rqst[\"dataset\"] = \"/gt1r/land_ice_segments/latitude\"\n",
    "    rsps = sliderule.engine(\"h5\", rqst)\n",
    "    latitudes = recoverdata(rsps)\n",
    "\n",
    "    # Read ATL06 (read-ICESat-2) Longitudes\n",
    "    rqst[\"dataset\"] = \"/gt1r/land_ice_segments/longitude\"\n",
    "    rsps = sliderule.engine(\"h5\", rqst)\n",
    "    longitudes = recoverdata(rsps)\n",
    "\n",
    "    # Build Dataframe of SlideRule Responses\n",
    "    lat_origin = latitudes[0]\n",
    "    lon_origin = longitudes[0]\n",
    "    distances = [geodist(lat_origin, lon_origin, latitudes[i], longitudes[i]) for i in range(len(heights))]\n",
    "    df = pd.DataFrame(data=list(zip(heights, distances)), index=segments, columns=[\"height\", \"distance\"])\n",
    "\n",
    "    # Filter Dataframe\n",
    "    df = df[df[\"height\"] < 25000.0]\n",
    "    df = df[df[\"height\"] > -25000.0]\n",
    "    df = df[df[\"distance\"] < 4000.0]\n",
    "\n",
    "    # Return DataFrame\n",
    "    print(\"Retrieved {} points from ATL06, returning {} points\".format(len(heights), len(df.values)))\n",
    "    return df"
   ]
  },
  {
   "cell_type": "code",
   "execution_count": null,
   "metadata": {},
   "outputs": [],
   "source": [
    "#\n",
    "# SlideRule Algorithm Processing Request\n",
    "#\n",
    "def algoexec(asset):\n",
    "\n",
    "    # Build ATL06 Request\n",
    "    rqst = {\n",
    "        \"asset\" : asset,\n",
    "        \"resource\": \"ATL03_20181019065445_03150111_003_01_CONTI_GZIP.h5\",\n",
    "        \"track\": 0,\n",
    "        \"stages\": [\"LSF\"],\n",
    "        \"parms\": {\n",
    "            \"cnf\": 4,\n",
    "            \"ats\": 20.0,\n",
    "            \"cnt\": 10,\n",
    "            \"len\": 40.0,\n",
    "            \"res\": 20.0,\n",
    "            \"maxi\": 1\n",
    "        }\n",
    "    }\n",
    "\n",
    "    # Execute ATL06 Algorithm\n",
    "    rsps = sliderule.engine(\"atl06\", rqst)\n",
    "\n",
    "    # Process Response Data\n",
    "    segments = [rsps[r][\"elevation\"][i][\"seg_id\"] for r in range(len(rsps)) for i in range(len(rsps[r][\"elevation\"]))]\n",
    "    latitudes = [rsps[r][\"elevation\"][i][\"lat\"] for r in range(len(rsps)) for i in range(len(rsps[r][\"elevation\"]))]\n",
    "    longitudes = [rsps[r][\"elevation\"][i][\"lon\"] for r in range(len(rsps)) for i in range(len(rsps[r][\"elevation\"]))]\n",
    "    heights = [rsps[r][\"elevation\"][i][\"height\"] for r in range(len(rsps)) for i in range(len(rsps[r][\"elevation\"]))]\n",
    "    rgt = [rsps[r][\"elevation\"][i][\"rgt\"] for r in range(len(rsps)) for i in range(len(rsps[r][\"elevation\"]))]\n",
    "    cycle = [rsps[r][\"elevation\"][i][\"cycle\"] for r in range(len(rsps)) for i in range(len(rsps[r][\"elevation\"]))]\n",
    "    beam = [rsps[r][\"elevation\"][i][\"beam\"] for r in range(len(rsps)) for i in range(len(rsps[r][\"elevation\"]))]\n",
    "\n",
    "    # Calculate Distances\n",
    "    lat_origin = latitudes[0]\n",
    "    lon_origin = longitudes[0]\n",
    "    distances = [geodist(lat_origin, lon_origin, latitudes[i], longitudes[i]) for i in range(len(heights))]\n",
    "\n",
    "    # Build Dataframe of SlideRule Responses\n",
    "    df = pd.DataFrame(data=list(zip(heights, distances, latitudes, longitudes, beam)), index=segments, columns=[\"height\", \"distance\", \"latitude\", \"longitude\", \"beam\"])\n",
    "\n",
    "    # Return DataFrame\n",
    "    print(\"Reference Ground Tracks: {} to {}\".format(min(rgt), max(rgt)))\n",
    "    print(\"Cycle: {} to {}\".format(min(cycle), max(cycle)))\n",
    "    print(\"Retrieved {} points from SlideRule\".format(len(heights)))\n",
    "    return df"
   ]
  },
  {
   "cell_type": "code",
   "execution_count": null,
   "metadata": {},
   "outputs": [],
   "source": [
    "# Execute SlideRule Algorithm\n",
    "act = algoexec(asset)\n",
    "\n",
    "# Read ATL06 Expected Results\n",
    "exp = expread(\"atl03-local\")"
   ]
  },
  {
   "cell_type": "code",
   "execution_count": null,
   "metadata": {},
   "outputs": [],
   "source": [
    "# Build Standard (Expected) Dataset\n",
    "standard1 = exp.sort_values(by=['distance'])\n",
    "\n",
    "# Build Track (Actual) Datasets\n",
    "track1 = act[act[\"beam\"].isin([1, 2])].sort_values(by=['distance'])\n",
    "track2 = act[act[\"beam\"].isin([3, 4])].sort_values(by=['distance'])\n",
    "track3 = act[act[\"beam\"].isin([5, 6])].sort_values(by=['distance'])"
   ]
  },
  {
   "cell_type": "markdown",
   "metadata": {},
   "source": [
    "## Matplotlib Plots"
   ]
  },
  {
   "cell_type": "code",
   "execution_count": null,
   "metadata": {},
   "outputs": [],
   "source": [
    "# Import MatPlotLib Package\n",
    "import matplotlib.pyplot as plt"
   ]
  },
  {
   "cell_type": "code",
   "execution_count": null,
   "metadata": {},
   "outputs": [],
   "source": [
    "# Create Elevation Plot\n",
    "fig = plt.figure(num=None, figsize=(12, 6))\n",
    "\n",
    "# Plot Track 1 Elevations\n",
    "ax1 = plt.subplot(131)\n",
    "ax1.set_title(\"Along Track 1 Elevations\")\n",
    "ax1.plot(track1[\"distance\"].values, track1[\"height\"].values, linewidth=1.0, color='b')\n",
    "ax1.plot(standard1[\"distance\"].values, standard1[\"height\"].values, linewidth=1.0, color='g')\n",
    "\n",
    "# Plot Track 2 Elevations\n",
    "ax2 = plt.subplot(132)\n",
    "ax2.set_title(\"Along Track 2 Elevations\")\n",
    "ax2.plot(track2[\"distance\"].values, track2[\"height\"].values, linewidth=1.0, color='b')\n",
    "\n",
    "# Plot Track 3 Elevations\n",
    "ax3 = plt.subplot(133)\n",
    "ax3.set_title(\"Along Track 3 Elevations\")\n",
    "ax3.plot(track3[\"distance\"].values, track3[\"height\"].values, linewidth=1.0, color='b')\n",
    "\n",
    "# Show Plot\n",
    "plt.show()"
   ]
  },
  {
   "cell_type": "markdown",
   "metadata": {},
   "source": [
    "## Bokeh Plots"
   ]
  },
  {
   "cell_type": "code",
   "execution_count": null,
   "metadata": {},
   "outputs": [],
   "source": [
    "# Import Bokeh Package\n",
    "from bokeh.io import push_notebook, show, output_notebook\n",
    "from bokeh.palettes import Spectral11\n",
    "from bokeh.plotting import figure\n",
    "output_notebook()"
   ]
  },
  {
   "cell_type": "code",
   "execution_count": null,
   "metadata": {},
   "outputs": [],
   "source": [
    "# Plot Track 1 vs Standard (using Bokeh)\n",
    "p = figure(title=\"Actual vs. Expected\", plot_height=500, plot_width=800)\n",
    "p.line(track1[\"distance\"].values, track1[\"height\"].values, line_width=3, color=Spectral11[0], alpha=0.8, legend_label=\"sliderule\")\n",
    "p.line(standard1[\"distance\"].values, standard1[\"height\"].values, line_width=3, color=Spectral11[1], alpha=0.8, legend_label=\"atl06\")\n",
    "p.legend.location = \"top_left\"\n",
    "p.legend.click_policy=\"hide\"\n",
    "show(p)"
   ]
  },
  {
   "cell_type": "code",
   "execution_count": null,
   "metadata": {},
   "outputs": [],
   "source": []
  }
 ],
 "metadata": {
  "kernelspec": {
   "display_name": "Python [conda env:sliderule]",
   "language": "python",
   "name": "conda-env-sliderule-py"
  },
  "language_info": {
   "codemirror_mode": {
    "name": "ipython",
    "version": 3
   },
   "file_extension": ".py",
   "mimetype": "text/x-python",
   "name": "python",
   "nbconvert_exporter": "python",
   "pygments_lexer": "ipython3",
   "version": "3.8.6"
  }
 },
 "nbformat": 4,
 "nbformat_minor": 4
}
